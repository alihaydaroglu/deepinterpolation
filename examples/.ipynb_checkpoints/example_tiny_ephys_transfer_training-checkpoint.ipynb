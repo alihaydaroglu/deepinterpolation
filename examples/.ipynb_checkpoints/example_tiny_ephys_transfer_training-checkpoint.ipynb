{
 "cells": [
  {
   "cell_type": "code",
   "execution_count": 1,
   "metadata": {
    "id": "D8RG4iRoCRUE"
   },
   "outputs": [],
   "source": [
    "import deepinterpolation as de\n",
    "import sys\n",
    "from shutil import copyfile\n",
    "import os\n",
    "from deepinterpolation.generic import JsonSaver, ClassLoader\n",
    "import datetime\n",
    "from typing import Any, Dict\n",
    "import pathlib\n",
    "import sys"
   ]
  },
  {
   "cell_type": "markdown",
   "metadata": {
    "id": "1Nogrv6xClZQ"
   },
   "source": [
    "This is used for record-keeping\n"
   ]
  },
  {
   "cell_type": "code",
   "execution_count": 2,
   "metadata": {
    "id": "lwuBrQ_jC6Ya"
   },
   "outputs": [],
   "source": [
    "now = datetime.datetime.now()\n",
    "run_uid = now.strftime(\"%Y_%m_%d_%H_%M\")"
   ]
  },
  {
   "cell_type": "markdown",
   "metadata": {
    "id": "iPO8knNmC62U"
   },
   "source": [
    "Initialize meta-parameters objects"
   ]
  },
  {
   "cell_type": "code",
   "execution_count": 3,
   "metadata": {
    "id": "5HMK5cRDC-gz"
   },
   "outputs": [],
   "source": [
    "training_param = {}\n",
    "generator_param = {}\n",
    "network_param = {}\n",
    "generator_test_param = {}"
   ]
  },
  {
   "cell_type": "markdown",
   "metadata": {
    "id": "nn7PSaI-C-01"
   },
   "source": [
    "An epoch is defined as the number of batches pulled from the dataset. Because our datasets are VERY large. Often, we cannot\n",
    "go through the entirity of the data so we define an epoch slightly differently than is usual."
   ]
  },
  {
   "cell_type": "code",
   "execution_count": 4,
   "metadata": {
    "id": "CzKVMosLDCsb"
   },
   "outputs": [],
   "source": [
    "steps_per_epoch = 10"
   ]
  },
  {
   "cell_type": "markdown",
   "metadata": {
    "id": "i7s66NK5DCx_"
   },
   "source": [
    "Those are parameters used for the Validation test generator. Here the test is done on the beginning of the data but\n",
    "this can be a separate file"
   ]
  },
  {
   "cell_type": "code",
   "execution_count": 5,
   "metadata": {
    "id": "3VsVLdJEC-8k"
   },
   "outputs": [],
   "source": [
    "generator_test_param[\"type\"] = \"generator\"  # type of collection\n",
    "generator_test_param[\"name\"] = \"EphysGenerator\"  # Name of object in the collection\n",
    "generator_test_param[\n",
    "    \"pre_post_frame\"\n",
    "] = 30  # Number of frame provided before and after the predicted frame\n",
    "generator_test_param[\"train_path\"] = os.path.join(\n",
    "    \"deepinterpolation\",\n",
    "    \"sample_data\",\n",
    "    \"ephys_tiny_continuous.dat2\",\n",
    ")\n",
    "generator_test_param[\"batch_size\"] = 100\n",
    "generator_test_param[\"start_frame\"] = 0\n",
    "generator_test_param[\"end_frame\"] = 1999\n",
    "generator_test_param[\n",
    "    \"pre_post_omission\"\n",
    "] = 1  # Number of frame omitted before and after the predicted frame\n",
    "generator_test_param[\"steps_per_epoch\"] = -1  # No step necessary for testing as epochs are not relevant. -1 deactivate it."
   ]
  },
  {
   "cell_type": "markdown",
   "metadata": {
    "id": "Z7e0BhTBEH_L"
   },
   "source": [
    "Those are parameters used for the main data generator"
   ]
  },
  {
   "cell_type": "code",
   "execution_count": 6,
   "metadata": {
    "id": "KCcCqT_hAuun"
   },
   "outputs": [],
   "source": [
    "generator_param[\"type\"] = \"generator\"\n",
    "generator_param[\"steps_per_epoch\"] = steps_per_epoch\n",
    "generator_param[\"name\"] = \"EphysGenerator\"\n",
    "generator_param[\"pre_post_frame\"] = 30\n",
    "generator_param[\"train_path\"] = os.path.join(\n",
    "    \"deepinterpolation\",\n",
    "    \"sample_data\",\n",
    "    \"ephys_tiny_continuous.dat2\",\n",
    ")\n",
    "generator_param[\"batch_size\"] = 100\n",
    "generator_param[\"start_frame\"] = 2000\n",
    "generator_param[\"end_frame\"] = 7099\n",
    "generator_param[\"pre_post_omission\"] = 1"
   ]
  },
  {
   "cell_type": "markdown",
   "metadata": {
    "id": "iAu-UN8zEjxz"
   },
   "source": [
    "Those are parameters used for the training process"
   ]
  },
  {
   "cell_type": "code",
   "execution_count": 7,
   "metadata": {
    "id": "VjINOf20EkCz"
   },
   "outputs": [],
   "source": [
    "training_param[\"type\"] = \"trainer\"\n",
    "training_param[\"name\"] = \"transfer_trainer\"\n",
    "training_param[\"run_uid\"] = run_uid\n",
    "\n",
    "# Path to model to transfer and fine-tune\n",
    "training_param[\"model_path\"] = \"ephys/unet_single_ephys_1024_mean_absolute_error_2020_11_12_18_34_2020_11_12_18_34/2020_11_12_18_34_unet_single_ephys_1024_mean_absolute_error_2020_11_12_18_34_model.h5\"\n",
    "training_param[\"batch_size\"] = generator_test_param[\"batch_size\"]\n",
    "training_param[\"steps_per_epoch\"] = steps_per_epoch\n",
    "training_param[\n",
    "    \"period_save\"\n",
    "] = 25  # network model is potentially saved during training between a regular nb epochs\n",
    "training_param[\"nb_gpus\"] = 0\n",
    "training_param[\"apply_learning_decay\"] = 0\n",
    "training_param[\n",
    "    \"nb_times_through_data\"\n",
    "] = 1  # if you want to cycle through the entire data. Two many iterations will cause noise overfitting\n",
    "training_param[\"learning_rate\"] = 0.0001\n",
    "training_param[\"pre_post_frame\"] = generator_test_param[\"pre_post_frame\"]\n",
    "training_param[\"loss\"] = \"mean_absolute_error\"\n",
    "training_param[\n",
    "    \"nb_workers\"\n",
    "] = 1  # this is to enable multiple threads for data generator loading. Useful when this is slower than training\n",
    "\n",
    "training_param[\"model_string\"] = (\n",
    "    \"transfer\"\n",
    "    + \"_\"\n",
    "    + training_param[\"loss\"]\n",
    "    + \"_\"\n",
    "    + training_param[\"run_uid\"]\n",
    ")"
   ]
  },
  {
   "cell_type": "markdown",
   "metadata": {
    "id": "STXWqSIHEkSr"
   },
   "source": [
    "Where do you store ongoing training progress"
   ]
  },
  {
   "cell_type": "code",
   "execution_count": 19,
   "metadata": {
    "id": "3a_PwgRGEkjx"
   },
   "outputs": [],
   "source": [
    " jobdir = os.path.join(\n",
    "    \"NEW-ephys\", training_param[\"model_string\"] + \"_\" + run_uid,\n",
    ")\n",
    "training_param[\"output_dir\"] = jobdir\n",
    "\n",
    "if not os.path.isdir(jobdir):\n",
    "    os.makedirs(jobdir)\n"
   ]
  },
  {
   "cell_type": "markdown",
   "metadata": {
    "id": "Gtk6kyuYE0qC"
   },
   "source": [
    "Here we create all json files that are fed to the training. This is used for recording purposes as well as input to the training proces"
   ]
  },
  {
   "cell_type": "code",
   "execution_count": 9,
   "metadata": {
    "id": "S1odplXwE0xe"
   },
   "outputs": [],
   "source": [
    "path_training = os.path.join(jobdir, \"training.json\")\n",
    "json_obj = JsonSaver(training_param)\n",
    "json_obj.save_json(path_training)\n",
    "\n",
    "path_generator = os.path.join(jobdir, \"generator.json\")\n",
    "json_obj = JsonSaver(generator_param)\n",
    "json_obj.save_json(path_generator)\n",
    "\n",
    "path_test_generator = os.path.join(jobdir, \"test_generator.json\")\n",
    "json_obj = JsonSaver(generator_test_param)\n",
    "json_obj.save_json(path_test_generator)\n",
    "\n",
    "path_network = os.path.join(jobdir, \"network.json\")\n",
    "json_obj = JsonSaver(network_param)\n",
    "json_obj.save_json(path_network)"
   ]
  },
  {
   "cell_type": "markdown",
   "metadata": {
    "id": "s5O5T6EmE7ss"
   },
   "source": [
    "Here we create all objects for training."
   ]
  },
  {
   "cell_type": "code",
   "execution_count": 11,
   "metadata": {
    "colab": {
     "base_uri": "https://localhost:8080/"
    },
    "id": "RrOO6Pc7E71m",
    "outputId": "44c55219-8b15-43f9-ebdf-23efb0833b3d"
   },
   "outputs": [
    {
     "name": "stdout",
     "output_type": "stream",
     "text": [
      "WARNING:tensorflow:`period` argument is deprecated. Please use `save_freq` to specify the frequency in number of batches seen.\n"
     ]
    }
   ],
   "source": [
    "# We find the generator obj in the collection using the json file\n",
    "generator_obj = ClassLoader(path_generator)\n",
    "generator_test_obj = ClassLoader(path_test_generator)\n",
    "\n",
    "# We find the training obj in the collection using the json file\n",
    "trainer_obj = ClassLoader(path_training)\n",
    "\n",
    "# We build the generators object. This will, among other things, calculate normalizing parameters.\n",
    "train_generator = generator_obj.find_and_build()(path_generator)\n",
    "test_generator = generator_test_obj.find_and_build()(path_test_generator)\n",
    "\n",
    "# We build the training object.\n",
    "training_class = trainer_obj.find_and_build()(train_generator, test_generator, path_training)"
   ]
  },
  {
   "cell_type": "markdown",
   "metadata": {
    "id": "LpVKYBcsCCuz"
   },
   "source": [
    "Start training. This can take very long time."
   ]
  },
  {
   "cell_type": "code",
   "execution_count": 12,
   "metadata": {
    "colab": {
     "base_uri": "https://localhost:8080/"
    },
    "id": "6Hw-IUVbAxSw",
    "outputId": "0544b182-caa1-493a-f9e3-c5080375c02d"
   },
   "outputs": [
    {
     "name": "stdout",
     "output_type": "stream",
     "text": [
      "Epoch 1/5\n",
      "WARNING:tensorflow:multiprocessing can interact badly with TensorFlow, causing nondeterministic deadlocks. For high performance data pipelines tf.data is recommended.\n",
      "10/10 [==============================] - 22s 2s/step - loss: 0.3887 - val_loss: 0.3639\n",
      "Epoch 2/5\n",
      "WARNING:tensorflow:multiprocessing can interact badly with TensorFlow, causing nondeterministic deadlocks. For high performance data pipelines tf.data is recommended.\n",
      "10/10 [==============================] - 23s 2s/step - loss: 0.3559 - val_loss: 0.3627\n",
      "Epoch 3/5\n",
      "WARNING:tensorflow:multiprocessing can interact badly with TensorFlow, causing nondeterministic deadlocks. For high performance data pipelines tf.data is recommended.\n",
      "10/10 [==============================] - 26s 3s/step - loss: 0.3497 - val_loss: 0.3607\n",
      "Epoch 4/5\n",
      "WARNING:tensorflow:multiprocessing can interact badly with TensorFlow, causing nondeterministic deadlocks. For high performance data pipelines tf.data is recommended.\n",
      "10/10 [==============================] - 23s 2s/step - loss: 0.3678 - val_loss: 0.3593\n",
      "Epoch 5/5\n",
      "WARNING:tensorflow:multiprocessing can interact badly with TensorFlow, causing nondeterministic deadlocks. For high performance data pipelines tf.data is recommended.\n",
      "10/10 [==============================] - 23s 2s/step - loss: 0.3724 - val_loss: 0.3565\n"
     ]
    }
   ],
   "source": [
    "training_class.run()"
   ]
  },
  {
   "cell_type": "markdown",
   "metadata": {
    "id": "FedXESQAB7f7"
   },
   "source": [
    "Finalize and save output of the training."
   ]
  },
  {
   "cell_type": "code",
   "execution_count": 13,
   "metadata": {
    "colab": {
     "base_uri": "https://localhost:8080/"
    },
    "id": "EGgJLL5hA0N8",
    "outputId": "4b571095-942c-4300-8253-e655fedb064a"
   },
   "outputs": [
    {
     "name": "stdout",
     "output_type": "stream",
     "text": [
      "Saved model to disk\n"
     ]
    }
   ],
   "source": [
    "training_class.finalize()"
   ]
  }
 ],
 "metadata": {
  "colab": {
   "collapsed_sections": [],
   "name": "example_tiny_ephys_training.ipynb",
   "provenance": [],
   "toc_visible": true
  },
  "kernelspec": {
   "display_name": "Python [conda env:lbm-deepinterp2]",
   "language": "python",
   "name": "conda-env-lbm-deepinterp2-py"
  },
  "language_info": {
   "codemirror_mode": {
    "name": "ipython",
    "version": 3
   },
   "file_extension": ".py",
   "mimetype": "text/x-python",
   "name": "python",
   "nbconvert_exporter": "python",
   "pygments_lexer": "ipython3",
   "version": "3.7.13"
  }
 },
 "nbformat": 4,
 "nbformat_minor": 1
}
